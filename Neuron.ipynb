{
  "nbformat": 4,
  "nbformat_minor": 0,
  "metadata": {
    "colab": {
      "name": "Neuron",
      "provenance": [],
      "authorship_tag": "ABX9TyP82i8kli9ah8ezLwo/YplX",
      "include_colab_link": true
    },
    "kernelspec": {
      "name": "python3",
      "display_name": "Python 3"
    },
    "language_info": {
      "name": "python"
    }
  },
  "cells": [
    {
      "cell_type": "markdown",
      "metadata": {
        "id": "view-in-github",
        "colab_type": "text"
      },
      "source": [
        "<a href=\"https://colab.research.google.com/github/TWentCEO/GAN/blob/main/Neuron.ipynb\" target=\"_parent\"><img src=\"https://colab.research.google.com/assets/colab-badge.svg\" alt=\"Open In Colab\"/></a>"
      ]
    },
    {
      "cell_type": "code",
      "execution_count": 1,
      "metadata": {
        "id": "6pvMP4yZ5rfK"
      },
      "outputs": [],
      "source": [
        "import numpy as np"
      ]
    },
    {
      "cell_type": "code",
      "source": [
        "class Neuron(object):\n",
        "    \"\"\"간단한한 전방방 전달달 인공공 뉴런.\n",
        "    Args:\n",
        "        num_inputs(int): 입력 벡터 크기 / 입력 값 개수.\n",
        "        activation_fn (callable) : activation function\n",
        "    Attributes:\n",
        "        w (ndarray) : weight\n",
        "        b (float) : bias\n",
        "        activation_fn (callable): activation function\n",
        "    \"\"\"\n",
        "\n",
        "    def __init__(self, num_inputs, activation_fn):\n",
        "        super().__init__()\n",
        "        # 랜덤값으로 가중치 벡터와 편향값을 초기화함:\n",
        "        self.W = np.random.rand(num_inputs)\n",
        "        self.b = np.random.rand(1)\n",
        "        self.activation_fn = activation_fn\n",
        "\n",
        "    def forward(self, x):\n",
        "        \"\"\"뉴련을 통해 입력 신호를 전달\"\"\"\n",
        "        z = np.dot(x, self.W) + self.b #np.dot 내적 계산\n",
        "        return self.activation_fn(z)"
      ],
      "metadata": {
        "id": "wERlvfFe5xeD"
      },
      "execution_count": 3,
      "outputs": []
    },
    {
      "cell_type": "code",
      "source": [
        "# 결과를 복제할 수 있도록 랜덤 숫자 생성기의 시드 값을 고정\n",
        "np.random.seed(42)\n",
        "# 3개의 랜덤 입력을 칼럼으로 받을 수 있는 배열 (shape = '(1,3)')\n",
        "x = np.random.rand(3).reshape(1,3)\n",
        "# array([[0.37454012, 0.95071431, 0.73199394]])"
      ],
      "metadata": {
        "id": "L6Bujs6850Gh"
      },
      "execution_count": 6,
      "outputs": []
    },
    {
      "cell_type": "code",
      "source": [
        "# 퍼셉트론을 인스턴스화(계단 함수를 사용하는 간단한 뉴련):\n",
        "step_fn = lambda y:0 if y <= 0 else 1\n",
        "perceptron = Neuron(num_inputs = x.size, activation_fn = step_fn)"
      ],
      "metadata": {
        "id": "ZP2KaSE18SkA"
      },
      "execution_count": 8,
      "outputs": []
    },
    {
      "cell_type": "code",
      "source": [
        "print(perceptron.W)\n",
        "print(perceptron.b)"
      ],
      "metadata": {
        "colab": {
          "base_uri": "https://localhost:8080/"
        },
        "id": "lh-dqPBv8ziS",
        "outputId": "3c055b22-89ce-4f93-938c-af67dd210840"
      },
      "execution_count": 10,
      "outputs": [
        {
          "output_type": "stream",
          "name": "stdout",
          "text": [
            "[0.59865848 0.15601864 0.15599452]\n",
            "[0.05808361]\n"
          ]
        }
      ]
    },
    {
      "cell_type": "code",
      "source": [
        "out = perceptron.forward(x)"
      ],
      "metadata": {
        "id": "QRUHAfv_84Ig"
      },
      "execution_count": 12,
      "outputs": []
    },
    {
      "cell_type": "code",
      "source": [
        "print(out)"
      ],
      "metadata": {
        "colab": {
          "base_uri": "https://localhost:8080/"
        },
        "id": "YXUKCVWo9Aqc",
        "outputId": "64575885-8617-4c4f-8652-1b7e7a5f77dd"
      },
      "execution_count": 13,
      "outputs": [
        {
          "output_type": "stream",
          "name": "stdout",
          "text": [
            "1\n"
          ]
        }
      ]
    }
  ]
}