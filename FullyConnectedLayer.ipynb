{
  "nbformat": 4,
  "nbformat_minor": 0,
  "metadata": {
    "colab": {
      "name": "FullyConnectedLayer",
      "provenance": [],
      "authorship_tag": "ABX9TyOCS9RBhrSisgt0trzlmGgN",
      "include_colab_link": true
    },
    "kernelspec": {
      "name": "python3",
      "display_name": "Python 3"
    },
    "language_info": {
      "name": "python"
    }
  },
  "cells": [
    {
      "cell_type": "markdown",
      "metadata": {
        "id": "view-in-github",
        "colab_type": "text"
      },
      "source": [
        "<a href=\"https://colab.research.google.com/github/TWentCEO/GAN/blob/main/FullyConnectedLayer.ipynb\" target=\"_parent\"><img src=\"https://colab.research.google.com/assets/colab-badge.svg\" alt=\"Open In Colab\"/></a>"
      ]
    },
    {
      "cell_type": "code",
      "execution_count": 1,
      "metadata": {
        "id": "gKZnZR9d_31M"
      },
      "outputs": [],
      "source": [
        "import numpy as np"
      ]
    },
    {
      "cell_type": "code",
      "source": [
        "class FullyConnectedLayer(object):\n",
        "    def __init__(self, num_inputs, layer_size, activation_fn):\n",
        "        super().__init__()\n",
        "        #임의로로 매개변수를를 초기화화 (정규 분포를 사용)\n",
        "        self.W = np.random.standard_normal((num_inputs, layer_size))\n",
        "        self.b = np.random.standard_normal(layer_size)\n",
        "        self.size = layer_size\n",
        "        self.activation_fn = activation_fn\n",
        "\n",
        "    def forward(self, x):\n",
        "        z = np.dot(x, self.W) + self.b\n",
        "        return self.activation_fn(z)"
      ],
      "metadata": {
        "id": "_v6RtPSZAjY2"
      },
      "execution_count": 2,
      "outputs": []
    },
    {
      "cell_type": "code",
      "source": [
        "np.random.seed(42)\n",
        "x1 = np.random.uniform(-1,1,2).reshape(1,2)\n",
        "x2 = np.random.uniform(-1,1,2).reshape(1,2)\n",
        "\n",
        "relu_fn = lambda y: np.maximum(y, 0) \n",
        "layer = FullyConnectedLayer(2,3,relu_fn)"
      ],
      "metadata": {
        "id": "myf9DbCrBQ4A"
      },
      "execution_count": 6,
      "outputs": []
    },
    {
      "cell_type": "code",
      "source": [
        "out1 = layer.forward(x1)\n",
        "out2 = layer.forward(x1)\n",
        "x12 = np.concatenate((x1,x2))\n",
        "out12 = layer.forward(x12)"
      ],
      "metadata": {
        "id": "wB3xI_osB21I"
      },
      "execution_count": 7,
      "outputs": []
    },
    {
      "cell_type": "code",
      "source": [
        "print(out1)\n",
        "print(out2)\n",
        "print(x12)\n",
        "print(out12)"
      ],
      "metadata": {
        "colab": {
          "base_uri": "https://localhost:8080/"
        },
        "id": "TiMh54wCCOUh",
        "outputId": "6186fa1d-7350-486d-bafc-452f766175e2"
      },
      "execution_count": 8,
      "outputs": [
        {
          "output_type": "stream",
          "name": "stdout",
          "text": [
            "[[0.28712364 0.         0.33478571]]\n",
            "[[0.28712364 0.         0.33478571]]\n",
            "[[-0.25091976  0.90142861]\n",
            " [ 0.46398788  0.19731697]]\n",
            "[[0.28712364 0.         0.33478571]\n",
            " [0.         0.         1.08175419]]\n"
          ]
        }
      ]
    },
    {
      "cell_type": "code",
      "source": [
        ""
      ],
      "metadata": {
        "id": "gfojsnZmCXMt"
      },
      "execution_count": null,
      "outputs": []
    }
  ]
}